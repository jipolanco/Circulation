{
 "cells": [
  {
   "cell_type": "code",
   "execution_count": 1,
   "metadata": {},
   "outputs": [],
   "source": [
    "using Circulation\n",
    "using GPFields\n",
    "using TimerOutputs"
   ]
  },
  {
   "cell_type": "code",
   "execution_count": 2,
   "metadata": {},
   "outputs": [
    {
     "name": "stdout",
     "output_type": "stream",
     "text": [
      "readdir(dir) = [\"4vortices\", \"KW\", \"TG\", \"TG2D\", \"rotation\", \"tangle\"]\n",
      "Directories in /home/jipolanco/Dropbox/circulation/data/tangle: [\"128\", \"256\"]\n",
      "Files in /home/jipolanco/Dropbox/circulation/data/tangle/256: [\"ImaPsi.001.dat\", \"ReaPsi.001.dat\", \"tt.001.dat\"]\n"
     ]
    }
   ],
   "source": [
    "const DATA_DIR_BASE = let dir = expanduser(\"~/Dropbox/circulation/data\")\n",
    "    @show readdir(dir)\n",
    "    # joinpath(dir, \"4vortices\")\n",
    "    # joinpath(dir, \"TG\")\n",
    "    joinpath(dir, \"tangle\")\n",
    "end\n",
    "\n",
    "const DATA_IDX = 1\n",
    "const RESOLUTION = 256\n",
    "\n",
    "const GP_PARAMS = ParamsGP(\n",
    "    (RESOLUTION, RESOLUTION, RESOLUTION),\n",
    "    c = 1.0,\n",
    "    nxi = 1.5,\n",
    ")\n",
    "\n",
    "let dir = joinpath(DATA_DIR_BASE, string(RESOLUTION))\n",
    "    println(\"Directories in $DATA_DIR_BASE: \", readdir(DATA_DIR_BASE))\n",
    "    println(\"Files in $dir: \", readdir(dir))\n",
    "end"
   ]
  },
  {
   "cell_type": "code",
   "execution_count": 6,
   "metadata": {},
   "outputs": [
    {
     "name": "stdout",
     "output_type": "stream",
     "text": [
      "loop_sizes = [1, 2, 4, 8, 16, 32, 64, 128]\n"
     ]
    },
    {
     "name": "stderr",
     "output_type": "stream",
     "text": [
      "\u001b[32mSlice(x): 100%|█████████████████████████████████████████| Time: 0:00:00\u001b[39m\n",
      "\u001b[32mSlice(y): 100%|█████████████████████████████████████████| Time: 0:00:00\u001b[39m\n",
      "\u001b[32mSlice(z): 100%|█████████████████████████████████████████| Time: 0:00:00\u001b[39m\n"
     ]
    },
    {
     "name": "stdout",
     "output_type": "stream",
     "text": [
      "  1.353199 seconds (4.59 k allocations: 24.591 MiB)\n"
     ]
    }
   ],
   "source": [
    "N = GP_PARAMS.dims[1]\n",
    "# loop_sizes = (1, 2, 4, 8, 16)\n",
    "power_max = Int(log2(N)) - 1\n",
    "loop_sizes = [1 << n for n = 0:power_max]  # powers of two\n",
    "@show loop_sizes\n",
    "to = TimerOutput()\n",
    "\n",
    "κ = GP_PARAMS.κ  # not sure if this is the good κ...\n",
    "\n",
    "stats = Circulation.init_statistics(\n",
    "    loop_sizes,\n",
    "    hist_edges=LinRange(-10κ, 10κ, 500),\n",
    "    num_moments=20,\n",
    ")\n",
    "\n",
    "@time analyse!(stats, GP_PARAMS, DATA_DIR_BASE,\n",
    "    data_idx=DATA_IDX, eps_vel=0, to=to,\n",
    "    max_slices=2,  # to make things faster! (testing only)\n",
    ");"
   ]
  },
  {
   "cell_type": "code",
   "execution_count": 7,
   "metadata": {},
   "outputs": [
    {
     "data": {
      "text/plain": [
       "HFD5 data file (closed): stats.h5"
      ]
     },
     "execution_count": 7,
     "metadata": {},
     "output_type": "execute_result"
    }
   ],
   "source": [
    "save_statistics(\"stats.h5\", stats)"
   ]
  },
  {
   "cell_type": "code",
   "execution_count": 8,
   "metadata": {},
   "outputs": [
    {
     "name": "stdout",
     "output_type": "stream",
     "text": [
      "\u001b[0m\u001b[1m ──────────────────────────────────────────────────────────────────────────────\u001b[22m\n",
      "\u001b[0m\u001b[1m                               \u001b[22m        Time                   Allocations      \n",
      "                               ──────────────────────   ───────────────────────\n",
      "       Tot / % measured:            3.30s / 41.0%           25.3MiB / 97.3%    \n",
      "\n",
      " Section               ncalls     time   %tot     avg     alloc   %tot      avg\n",
      " ──────────────────────────────────────────────────────────────────────────────\n",
      " analyse!                   3    1.35s   100%   451ms   24.6MiB  100%   8.20MiB\n",
      "   circulation!           144    678ms  50.1%  4.71ms     0.00B  0.00%    0.00B\n",
      "   statistics             144    525ms  38.8%  3.65ms   6.16KiB  0.02%    43.8B\n",
      "     histogram            144    314ms  23.2%  2.18ms     0.00B  0.00%    0.00B\n",
      "     moments              144    210ms  15.5%  1.46ms     0.00B  0.00%    0.00B\n",
      "   prepare!                18   65.5ms  4.84%  3.64ms     0.00B  0.00%    0.00B\n",
      "   load_psi!                6   45.8ms  3.38%  7.63ms   31.1KiB  0.12%  5.18KiB\n",
      "   compute_momentum!        6   25.7ms  1.90%  4.28ms     0.00B  0.00%    0.00B\n",
      "   compute_vreg!            6   5.00ms  0.37%   834μs     96.0B  0.00%    16.0B\n",
      "   compute_vel!             6   1.37ms  0.10%   229μs      192B  0.00%    32.0B\n",
      "   compute_density!         6   1.19ms  0.09%   198μs     0.00B  0.00%    0.00B\n",
      "   reduce!                  3    440μs  0.03%   147μs   30.3KiB  0.12%  10.1KiB\n",
      "\u001b[0m\u001b[1m ──────────────────────────────────────────────────────────────────────────────\u001b[22m\n"
     ]
    }
   ],
   "source": [
    "println(to)"
   ]
  }
 ],
 "metadata": {
  "kernelspec": {
   "display_name": "Julia 1.4.0",
   "language": "julia",
   "name": "julia-1.4"
  },
  "language_info": {
   "file_extension": ".jl",
   "mimetype": "application/julia",
   "name": "julia",
   "version": "1.4.0"
  }
 },
 "nbformat": 4,
 "nbformat_minor": 4
}

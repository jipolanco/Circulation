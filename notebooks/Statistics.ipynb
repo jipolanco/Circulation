{
 "cells": [
  {
   "cell_type": "code",
   "execution_count": 1,
   "metadata": {},
   "outputs": [
    {
     "name": "stderr",
     "output_type": "stream",
     "text": [
      "┌ Info: Precompiling Circulation [f9745a5e-b5bf-4554-ab79-8fb660046134]\n",
      "└ @ Base loading.jl:1260\n"
     ]
    }
   ],
   "source": [
    "using Circulation\n",
    "using GPFields\n",
    "using TimerOutputs"
   ]
  },
  {
   "cell_type": "code",
   "execution_count": 2,
   "metadata": {},
   "outputs": [
    {
     "name": "stdout",
     "output_type": "stream",
     "text": [
      "readdir(dir) = [\"4vortices\", \"KW\", \"TG\", \"TG2D\", \"rotation\", \"tangle\"]\n",
      "Directories in /home/jipolanco/Dropbox/circulation/data/tangle: [\"128\", \"256\"]\n",
      "Files in /home/jipolanco/Dropbox/circulation/data/tangle/256: [\"ImaPsi.001.dat\", \"ReaPsi.001.dat\", \"tt.001.dat\"]\n"
     ]
    }
   ],
   "source": [
    "const DATA_DIR_BASE = let dir = expanduser(\"~/Dropbox/circulation/data\")\n",
    "    @show readdir(dir)\n",
    "    # joinpath(dir, \"4vortices\")\n",
    "    # joinpath(dir, \"TG\")\n",
    "    joinpath(dir, \"tangle\")\n",
    "end\n",
    "\n",
    "const DATA_IDX = 1\n",
    "const RESOLUTION = 256\n",
    "\n",
    "const GP_PARAMS = ParamsGP(\n",
    "    (RESOLUTION, RESOLUTION, RESOLUTION),\n",
    "    c = 1.0,\n",
    "    nxi = 1.5,\n",
    ")\n",
    "\n",
    "let dir = joinpath(DATA_DIR_BASE, string(RESOLUTION))\n",
    "    println(\"Directories in $DATA_DIR_BASE: \", readdir(DATA_DIR_BASE))\n",
    "    println(\"Files in $dir: \", readdir(dir))\n",
    "end"
   ]
  },
  {
   "cell_type": "code",
   "execution_count": 6,
   "metadata": {},
   "outputs": [
    {
     "name": "stdout",
     "output_type": "stream",
     "text": [
      "loop_sizes = [1, 2, 4, 8, 16, 32, 64, 128]\n",
      " 12.262821 seconds (17.39 k allocations: 18.932 MiB)\n"
     ]
    }
   ],
   "source": [
    "# loop_sizes = (1, 2, 4, 8, 16)\n",
    "N = GP_PARAMS.dims[1]\n",
    "# loop_sizes = (4, 8, )\n",
    "power_max = Int(log2(N)) - 1\n",
    "loop_sizes = [1 << n for n = 0:power_max]  # powers of two\n",
    "@show loop_sizes\n",
    "to = TimerOutput()\n",
    "\n",
    "κ = GP_PARAMS.κ  # not sure if this is the good κ...\n",
    "\n",
    "stats = Circulation.init_statistics(\n",
    "    loop_sizes,\n",
    "    hist_edges=LinRange(-10κ, 10κ, 500),\n",
    "    num_moments=20,\n",
    ")\n",
    "\n",
    "@time analyse!(stats, GP_PARAMS, DATA_DIR_BASE,\n",
    "    data_idx=DATA_IDX, eps_vel=0, to=to,\n",
    "    slice_selection=1:16,  # to make things faster! (testing only)\n",
    ");"
   ]
  },
  {
   "cell_type": "code",
   "execution_count": 4,
   "metadata": {},
   "outputs": [
    {
     "data": {
      "text/plain": [
       "HFD5 data file (closed): stats.h5"
      ]
     },
     "execution_count": 4,
     "metadata": {},
     "output_type": "execute_result"
    }
   ],
   "source": [
    "save_statistics(\"stats.h5\", stats)"
   ]
  },
  {
   "cell_type": "code",
   "execution_count": 5,
   "metadata": {},
   "outputs": [
    {
     "name": "stdout",
     "output_type": "stream",
     "text": [
      "\u001b[0m\u001b[1m ──────────────────────────────────────────────────────────────────────────────\u001b[22m\n",
      "\u001b[0m\u001b[1m                               \u001b[22m        Time                   Allocations      \n",
      "                               ──────────────────────   ───────────────────────\n",
      "       Tot / % measured:            20.4s / 71.7%            896MiB / 12.7%    \n",
      "\n",
      " Section               ncalls     time   %tot     avg     alloc   %tot      avg\n",
      " ──────────────────────────────────────────────────────────────────────────────\n",
      " analyse!                   3    14.7s   100%   4.88s    114MiB  100%   37.9MiB\n",
      "   circulation!         1.15k    5.59s  38.2%  4.85ms     0.00B  0.00%    0.00B\n",
      "   statistics           1.15k    4.35s  29.7%  3.77ms   37.7KiB  0.03%    33.5B\n",
      "     histogram          1.15k    2.60s  17.8%  2.26ms     0.00B  0.00%    0.00B\n",
      "     moments            1.15k    1.74s  11.9%  1.51ms     0.00B  0.00%    0.00B\n",
      "   load_psi!               48    1.07s  7.29%  22.2ms    557KiB  0.48%  11.6KiB\n",
      "   prepare!               144    524ms  3.58%  3.64ms     0.00B  0.00%    0.00B\n",
      "   compute_momentum!       48    228ms  1.56%  4.76ms   1.03MiB  0.91%  22.1KiB\n",
      "   compute_vreg!           48    161ms  1.10%  3.36ms   23.3MiB  20.5%   498KiB\n",
      "   compute_vel!            48    154ms  1.05%  3.22ms   15.9MiB  14.0%   340KiB\n",
      "   compute_density!        48   6.66ms  0.05%   139μs     0.00B  0.00%    0.00B\n",
      "\u001b[0m\u001b[1m ──────────────────────────────────────────────────────────────────────────────\u001b[22m\n"
     ]
    }
   ],
   "source": [
    "println(to)"
   ]
  },
  {
   "cell_type": "code",
   "execution_count": null,
   "metadata": {},
   "outputs": [],
   "source": []
  }
 ],
 "metadata": {
  "kernelspec": {
   "display_name": "Julia 1.4.0",
   "language": "julia",
   "name": "julia-1.4"
  },
  "language_info": {
   "file_extension": ".jl",
   "mimetype": "application/julia",
   "name": "julia",
   "version": "1.4.0"
  }
 },
 "nbformat": 4,
 "nbformat_minor": 4
}

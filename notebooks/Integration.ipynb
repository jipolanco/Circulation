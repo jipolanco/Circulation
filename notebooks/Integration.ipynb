{
 "cells": [
  {
   "cell_type": "markdown",
   "metadata": {},
   "source": [
    "# Integration using FFTs"
   ]
  },
  {
   "cell_type": "markdown",
   "metadata": {},
   "source": [
    "Suppose we want to integrate a $2\\pi$-periodic function $v(x)$ between two points.\n",
    "\n",
    "The function can be expanded in Fourier modes as:\n",
    "\\begin{equation}\n",
    "  v(x) = \\sum_{k \\in \\mathbb{Z}} \\hat{v}_k e^{ikx}\n",
    "\\end{equation}\n",
    "\n",
    "Then, its integral is:\n",
    "\\begin{equation}\n",
    "  I(a, b) \\equiv\n",
    "  \\int_a^b v(x) \\, dx =\n",
    "  \\sum_k \\hat{v}_k \\int_a^b e^{ikx} \\, dx\n",
    "\\end{equation}\n",
    "\n",
    "Note that $\\int e^{ikx} \\, dx = x$ if $k = 0$, and $e^{ikx} / ik$ otherwise.\n",
    "Then:\n",
    "\\begin{equation}\n",
    "  I(a, b) = (b - a) \\, \\hat{v}_0 +\n",
    "  \\sum_{k \\ne 0} \\frac{\\hat{v}_k}{i k}\n",
    "  \\left( e^{ikb} - e^{ika} \\right)\n",
    "\\end{equation}\n",
    "\n",
    "We can now define $\\hat{w}_k$ such that $\\hat{w}_k = \\hat{v}_k / ik$ for $k \\ne 0$\n",
    "and $\\hat{w}_0 = 0$.\n",
    "Then, it is clear that\n",
    "\\begin{align}\n",
    "  I(a, b) &= (b - a) \\, \\hat{v}_0 +\n",
    "  \\sum_k \\hat{w}_k\n",
    "  \\left( e^{ikb} - e^{ika} \\right)\n",
    "  \\\\\n",
    "  &=\n",
    "  (b - a) \\, \\hat{v}_0 + w(b) - w(a),\n",
    "\\end{align}\n",
    "where\n",
    "\\begin{equation}\n",
    "  w(x) = \\sum_{k \\in \\mathbb{Z}} \\hat{w}_k e^{ikx}\n",
    "\\end{equation}\n",
    "is the inverse Fourier transform of the $\\hat{w}_k$ coefficients."
   ]
  },
  {
   "cell_type": "markdown",
   "metadata": {},
   "source": [
    "# Example in Julia"
   ]
  },
  {
   "cell_type": "code",
   "execution_count": 1,
   "metadata": {},
   "outputs": [
    {
     "name": "stdout",
     "output_type": "stream",
     "text": [
      "k = [0.0, 1.0, 2.0, 3.0, 4.0, 5.0, 6.0, 7.0, 8.0, 9.0, 10.0, 11.0, 12.0, 13.0, 14.0, 15.0, 16.0]\n",
      "x[[a, b]] ./ pi = [0.0, 0.75]\n",
      "\n",
      "Integral (analytical): -2.8216543207749836\n",
      "Integral (FFT)       : -2.821654320774983\n"
     ]
    }
   ],
   "source": [
    "using FFTW\n",
    "\n",
    "N = 32\n",
    "L = 2pi\n",
    "\n",
    "x = LinRange(0, L, N + 1)[1:N]\n",
    "\n",
    "v  = @. 0.2  + cos(x) - 8 * sin(4x)\n",
    "vI = @. 0.2x + sin(x) + 2 * cos(4x)  # integral\n",
    "\n",
    "# Wave numbers\n",
    "k = rfftfreq(N, 2pi * N / L)\n",
    "@show k\n",
    "\n",
    "# Perform real-to-complex FFT\n",
    "vf = rfft(v)\n",
    "\n",
    "# Keep mode k = 0 (mean value of v)\n",
    "# NOTE: it needs to be normalised by the length of the transformed data!!\n",
    "U = Real(vf[1]) / N\n",
    "\n",
    "# Set zero mode to 0, and divide the rest by ik.\n",
    "vf[1] = 0\n",
    "vf[2:end] ./= im * k[2:end]\n",
    "\n",
    "# Transform back\n",
    "w = irfft(vf, N)\n",
    "\n",
    "# Verify integral\n",
    "a = searchsortedlast(x, 0)\n",
    "b = searchsortedlast(x, 0.8 * pi)\n",
    "@show x[[a, b]] ./ pi\n",
    "\n",
    "int_analytical = vI[b] - vI[a]\n",
    "int_fft = U * (x[b] - x[a]) + w[b] - w[a]\n",
    "\n",
    "println()\n",
    "println(\"Integral (analytical): \", int_analytical)\n",
    "println(\"Integral (FFT)       : \", int_fft)"
   ]
  }
 ],
 "metadata": {
  "kernelspec": {
   "display_name": "Julia 1.4.0",
   "language": "julia",
   "name": "julia-1.4"
  },
  "language_info": {
   "file_extension": ".jl",
   "mimetype": "application/julia",
   "name": "julia",
   "version": "1.4.0"
  }
 },
 "nbformat": 4,
 "nbformat_minor": 4
}

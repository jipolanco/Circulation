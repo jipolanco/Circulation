{
 "cells": [
  {
   "cell_type": "code",
   "execution_count": null,
   "metadata": {},
   "outputs": [],
   "source": [
    "IJulia.SOFTSCOPE[] = false\n",
    "\n",
    "# Add current directory to load path, to allow loading modules like GPFields.\n",
    "if \".\" ∉ LOAD_PATH\n",
    "    push!(LOAD_PATH, \".\")\n",
    "end\n",
    "@show Base.load_path()\n",
    "\n",
    "using Circulation\n",
    "using GPFields"
   ]
  },
  {
   "cell_type": "code",
   "execution_count": null,
   "metadata": {},
   "outputs": [],
   "source": [
    "const DATA_DIR_BASE = expanduser(\"~/Dropbox/circulation/data/4vortices\")\n",
    "const DATA_IDX = 1\n",
    "\n",
    "const GP_PARAMS = ParamsGP(\n",
    "    (256, 256),\n",
    "    c = 1.0,\n",
    "    nxi = 1.5,\n",
    ")"
   ]
  },
  {
   "cell_type": "code",
   "execution_count": null,
   "metadata": {},
   "outputs": [],
   "source": [
    "# Load data\n",
    "psi = let datadir = joinpath(DATA_DIR_BASE, string(GP_PARAMS.dims[1]))\n",
    "    @show datadir\n",
    "    @time GPFields.load_psi(GP_PARAMS, datadir, DATA_IDX)\n",
    "end\n",
    "summary(psi)"
   ]
  },
  {
   "cell_type": "code",
   "execution_count": null,
   "metadata": {},
   "outputs": [],
   "source": [
    "rho = GPFields.compute_density(psi)\n",
    "summary(rho)"
   ]
  },
  {
   "cell_type": "code",
   "execution_count": null,
   "metadata": {},
   "outputs": [],
   "source": [
    "p = GPFields.compute_momentum(psi, GP_PARAMS);\n",
    "v = map(pj -> pj ./ (rho .+ 1e-12), p);\n",
    "vreg = map(pj -> pj ./ sqrt.(rho), p);\n",
    "@show extrema(p[1]);\n",
    "@show extrema(v[1]);\n",
    "@show extrema(vreg[1]);"
   ]
  },
  {
   "cell_type": "code",
   "execution_count": null,
   "metadata": {},
   "outputs": [],
   "source": [
    "using FFTW\n",
    "\n",
    "# FFT of v[i] along dimension i\n",
    "vf = ntuple(i -> rfft(v[i], i), 2);\n",
    "\n",
    "# Wave numbers for r2c transforms\n",
    "Ns = GP_PARAMS.dims\n",
    "Ls = GP_PARAMS.L\n",
    "fs = 2pi .* Ns ./ Ls  # sampling frequency = 2pi * N / L\n",
    "ks = rfftfreq.(Ns, fs);\n",
    "\n",
    "# Make loop around (Nx/4, Ny/4)\n",
    "I0 = Ns .>> 2  # N / 2^2 = N / 4\n",
    "dI = Ns .>> 6  # N / 2^6 = N / 64\n",
    "loop = Circulation.Rectangle(I0 .- dI, 2 .* dI)\n",
    "\n",
    "# In physical coordinates\n",
    "loop_phys = (Ls ./ Ns) * loop\n",
    "\n",
    "println(loop)\n",
    "println(loop_phys)\n",
    "\n",
    "@btime circulation($loop, $vf, $ks, $Ns)\n",
    "# @code_warntype circulation(loop, vf, ks, Ns)\n",
    "circulation(loop, vf, ks, Ns)"
   ]
  },
  {
   "cell_type": "markdown",
   "metadata": {},
   "source": [
    "# Plots"
   ]
  },
  {
   "cell_type": "code",
   "execution_count": null,
   "metadata": {},
   "outputs": [],
   "source": [
    "@time import PyPlot\n",
    "const plt = PyPlot;"
   ]
  },
  {
   "cell_type": "code",
   "execution_count": null,
   "metadata": {},
   "outputs": [],
   "source": [
    "fig, ax = plt.subplots()\n",
    "x, y = get_coordinates(GP_PARAMS)\n",
    "ax.set_aspect(:equal)\n",
    "cf = ax.contourf(x, y, rho')\n",
    "# cf = ax.contourf(x, y, v[1])\n",
    "fig.colorbar(cf)\n",
    "ax.quiver(x, y, p[1]', p[2]', scale=12)\n",
    "# ax.quiver(x, y, v[2]', v[1]', scale=15)\n",
    "ax.set_xlim(0.4pi, 0.6pi)\n",
    "ax.set_ylim(0.4pi, 0.6pi)"
   ]
  },
  {
   "cell_type": "markdown",
   "metadata": {},
   "source": [
    "# Test integration"
   ]
  },
  {
   "cell_type": "code",
   "execution_count": null,
   "metadata": {},
   "outputs": [],
   "source": [
    "let L = 4pi\n",
    "    N = 256\n",
    "    x = range(0, L, length=N + 1)[1:end-1]\n",
    "    \n",
    "    v = @. 0.2 + sin(x) + cos(2x)\n",
    "    vI = @. 0.2x - cos(x) + sin(2x) / 2\n",
    "    \n",
    "    vf = rfft(v)\n",
    "    k = rfftfreq(N, 2pi * N / L)\n",
    "    @assert k[2] ≈ 2pi / L\n",
    "\n",
    "    a = searchsortedlast(x, 0)\n",
    "    b = searchsortedlast(x, π / 4)\n",
    "    \n",
    "    @show a, b\n",
    "    @show x[[a, b]]\n",
    "    int1 = vI[b] - vI[a]\n",
    "    int2 = Circulation.integrate(vf, k, x[a], x[b]) / N\n",
    "    @show int1\n",
    "    @show int2\n",
    "    @assert int1 ≈ int2\n",
    "    @btime Circulation.integrate($vf, $k, 0.1, 0.4)\n",
    "end"
   ]
  },
  {
   "cell_type": "markdown",
   "metadata": {},
   "source": [
    "# VTK files (for verification)"
   ]
  },
  {
   "cell_type": "code",
   "execution_count": null,
   "metadata": {},
   "outputs": [],
   "source": [
    "using WriteVTK\n",
    "\n",
    "@show typeof(x)\n",
    "\n",
    "vtk_grid(\"fields\", x, y, compress=false) do vtk\n",
    "    vtk[\"rho\"] = rho\n",
    "    vtk[\"v\"] = v\n",
    "    vtk[\"p\"] = p\n",
    "end"
   ]
  }
 ],
 "metadata": {
  "kernelspec": {
   "display_name": "Julia 1.4.0",
   "language": "julia",
   "name": "julia-1.4"
  },
  "language_info": {
   "file_extension": ".jl",
   "mimetype": "application/julia",
   "name": "julia",
   "version": "1.4.0"
  }
 },
 "nbformat": 4,
 "nbformat_minor": 4
}
